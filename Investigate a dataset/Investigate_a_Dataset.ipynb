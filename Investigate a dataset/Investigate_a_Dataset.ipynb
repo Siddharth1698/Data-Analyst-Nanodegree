{
 "cells": [
  {
   "cell_type": "markdown",
   "metadata": {},
   "source": [
    "> **Tip**: Welcome to the Investigate a Dataset project! You will find tips in quoted sections like this to help organize your approach to your investigation. Before submitting your project, it will be a good idea to go back through your report and remove these sections to make the presentation of your work as tidy as possible. First things first, you might want to double-click this Markdown cell and change the title so that it reflects your dataset and investigation.\n",
    "\n",
    "# Project: Movie Database Analysis\n",
    "\n",
    "## Table of Contents\n",
    "<ul>\n",
    "<li><a href=\"#intro\">Introduction</a></li>\n",
    "<li><a href=\"#wrangling\">Data Wrangling</a></li>\n",
    "<li><a href=\"#eda\">Exploratory Data Analysis</a></li>\n",
    "<li><a href=\"#conclusions\">Conclusions</a></li>\n",
    "</ul>"
   ]
  },
  {
   "cell_type": "markdown",
   "metadata": {},
   "source": [
    "<a id='intro'></a>\n",
    "## Introduction\n",
    "\n",
    "> **Tip**: In this section of the report, provide a brief introduction to the dataset you've selected for analysis. At the end of this section, describe the questions that you plan on exploring over the course of the report. Try to build your report around the analysis of at least one dependent variable and three independent variables. If you're not sure what questions to ask, then make sure you familiarize yourself with the dataset, its variables and the dataset context for ideas of what to explore.\n",
    "\n",
    "> If you haven't yet selected and downloaded your data, make sure you do that first before coming back here. In order to work with the data in this workspace, you also need to upload it to the workspace. To do so, click on the jupyter icon in the upper left to be taken back to the workspace directory. There should be an 'Upload' button in the upper right that will let you add your data file(s) to the workspace. You can then click on the .ipynb file name to come back here."
   ]
  },
  {
   "cell_type": "code",
   "execution_count": 4,
   "metadata": {},
   "outputs": [
    {
     "name": "stderr",
     "output_type": "stream",
     "text": [
      "UsageError: Line magic function `%` not found.\n"
     ]
    }
   ],
   "source": [
    "# Use this cell to set up import statements for all of the packages that you\n",
    "#   plan to use.\n",
    "\n",
    "import pandas as pd\n",
    "import numpy as np\n",
    "import csv\n",
    "import seaborn as sns\n",
    "from datetime import datetime\n",
    "import matplotlib.pyplot as plt\n",
    "% matplotlib inline"
   ]
  },
  {
   "cell_type": "markdown",
   "metadata": {},
   "source": [
    "<a id='wrangling'></a>\n",
    "## Data Wrangling\n",
    "\n",
    "> **Tip**: In this section of the report, you will load in the data, check for cleanliness, and then trim and clean your dataset for analysis. Make sure that you document your steps carefully and justify your cleaning decisions.\n",
    "\n",
    "### General Properties"
   ]
  },
  {
   "cell_type": "code",
   "execution_count": 5,
   "metadata": {},
   "outputs": [
    {
     "data": {
      "text/html": [
       "<div>\n",
       "<style scoped>\n",
       "    .dataframe tbody tr th:only-of-type {\n",
       "        vertical-align: middle;\n",
       "    }\n",
       "\n",
       "    .dataframe tbody tr th {\n",
       "        vertical-align: top;\n",
       "    }\n",
       "\n",
       "    .dataframe thead th {\n",
       "        text-align: right;\n",
       "    }\n",
       "</style>\n",
       "<table border=\"1\" class=\"dataframe\">\n",
       "  <thead>\n",
       "    <tr style=\"text-align: right;\">\n",
       "      <th></th>\n",
       "      <th>id</th>\n",
       "      <th>imdb_id</th>\n",
       "      <th>popularity</th>\n",
       "      <th>budget</th>\n",
       "      <th>revenue</th>\n",
       "      <th>original_title</th>\n",
       "      <th>cast</th>\n",
       "      <th>homepage</th>\n",
       "      <th>director</th>\n",
       "      <th>tagline</th>\n",
       "      <th>...</th>\n",
       "      <th>overview</th>\n",
       "      <th>runtime</th>\n",
       "      <th>genres</th>\n",
       "      <th>production_companies</th>\n",
       "      <th>release_date</th>\n",
       "      <th>vote_count</th>\n",
       "      <th>vote_average</th>\n",
       "      <th>release_year</th>\n",
       "      <th>budget_adj</th>\n",
       "      <th>revenue_adj</th>\n",
       "    </tr>\n",
       "  </thead>\n",
       "  <tbody>\n",
       "    <tr>\n",
       "      <th>0</th>\n",
       "      <td>135397</td>\n",
       "      <td>tt0369610</td>\n",
       "      <td>32.985763</td>\n",
       "      <td>150000000</td>\n",
       "      <td>1513528810</td>\n",
       "      <td>Jurassic World</td>\n",
       "      <td>Chris Pratt|Bryce Dallas Howard|Irrfan Khan|Vi...</td>\n",
       "      <td>http://www.jurassicworld.com/</td>\n",
       "      <td>Colin Trevorrow</td>\n",
       "      <td>The park is open.</td>\n",
       "      <td>...</td>\n",
       "      <td>Twenty-two years after the events of Jurassic ...</td>\n",
       "      <td>124</td>\n",
       "      <td>Action|Adventure|Science Fiction|Thriller</td>\n",
       "      <td>Universal Studios|Amblin Entertainment|Legenda...</td>\n",
       "      <td>6/9/15</td>\n",
       "      <td>5562</td>\n",
       "      <td>6.5</td>\n",
       "      <td>2015</td>\n",
       "      <td>1.379999e+08</td>\n",
       "      <td>1.392446e+09</td>\n",
       "    </tr>\n",
       "    <tr>\n",
       "      <th>1</th>\n",
       "      <td>76341</td>\n",
       "      <td>tt1392190</td>\n",
       "      <td>28.419936</td>\n",
       "      <td>150000000</td>\n",
       "      <td>378436354</td>\n",
       "      <td>Mad Max: Fury Road</td>\n",
       "      <td>Tom Hardy|Charlize Theron|Hugh Keays-Byrne|Nic...</td>\n",
       "      <td>http://www.madmaxmovie.com/</td>\n",
       "      <td>George Miller</td>\n",
       "      <td>What a Lovely Day.</td>\n",
       "      <td>...</td>\n",
       "      <td>An apocalyptic story set in the furthest reach...</td>\n",
       "      <td>120</td>\n",
       "      <td>Action|Adventure|Science Fiction|Thriller</td>\n",
       "      <td>Village Roadshow Pictures|Kennedy Miller Produ...</td>\n",
       "      <td>5/13/15</td>\n",
       "      <td>6185</td>\n",
       "      <td>7.1</td>\n",
       "      <td>2015</td>\n",
       "      <td>1.379999e+08</td>\n",
       "      <td>3.481613e+08</td>\n",
       "    </tr>\n",
       "    <tr>\n",
       "      <th>2</th>\n",
       "      <td>262500</td>\n",
       "      <td>tt2908446</td>\n",
       "      <td>13.112507</td>\n",
       "      <td>110000000</td>\n",
       "      <td>295238201</td>\n",
       "      <td>Insurgent</td>\n",
       "      <td>Shailene Woodley|Theo James|Kate Winslet|Ansel...</td>\n",
       "      <td>http://www.thedivergentseries.movie/#insurgent</td>\n",
       "      <td>Robert Schwentke</td>\n",
       "      <td>One Choice Can Destroy You</td>\n",
       "      <td>...</td>\n",
       "      <td>Beatrice Prior must confront her inner demons ...</td>\n",
       "      <td>119</td>\n",
       "      <td>Adventure|Science Fiction|Thriller</td>\n",
       "      <td>Summit Entertainment|Mandeville Films|Red Wago...</td>\n",
       "      <td>3/18/15</td>\n",
       "      <td>2480</td>\n",
       "      <td>6.3</td>\n",
       "      <td>2015</td>\n",
       "      <td>1.012000e+08</td>\n",
       "      <td>2.716190e+08</td>\n",
       "    </tr>\n",
       "    <tr>\n",
       "      <th>3</th>\n",
       "      <td>140607</td>\n",
       "      <td>tt2488496</td>\n",
       "      <td>11.173104</td>\n",
       "      <td>200000000</td>\n",
       "      <td>2068178225</td>\n",
       "      <td>Star Wars: The Force Awakens</td>\n",
       "      <td>Harrison Ford|Mark Hamill|Carrie Fisher|Adam D...</td>\n",
       "      <td>http://www.starwars.com/films/star-wars-episod...</td>\n",
       "      <td>J.J. Abrams</td>\n",
       "      <td>Every generation has a story.</td>\n",
       "      <td>...</td>\n",
       "      <td>Thirty years after defeating the Galactic Empi...</td>\n",
       "      <td>136</td>\n",
       "      <td>Action|Adventure|Science Fiction|Fantasy</td>\n",
       "      <td>Lucasfilm|Truenorth Productions|Bad Robot</td>\n",
       "      <td>12/15/15</td>\n",
       "      <td>5292</td>\n",
       "      <td>7.5</td>\n",
       "      <td>2015</td>\n",
       "      <td>1.839999e+08</td>\n",
       "      <td>1.902723e+09</td>\n",
       "    </tr>\n",
       "    <tr>\n",
       "      <th>4</th>\n",
       "      <td>168259</td>\n",
       "      <td>tt2820852</td>\n",
       "      <td>9.335014</td>\n",
       "      <td>190000000</td>\n",
       "      <td>1506249360</td>\n",
       "      <td>Furious 7</td>\n",
       "      <td>Vin Diesel|Paul Walker|Jason Statham|Michelle ...</td>\n",
       "      <td>http://www.furious7.com/</td>\n",
       "      <td>James Wan</td>\n",
       "      <td>Vengeance Hits Home</td>\n",
       "      <td>...</td>\n",
       "      <td>Deckard Shaw seeks revenge against Dominic Tor...</td>\n",
       "      <td>137</td>\n",
       "      <td>Action|Crime|Thriller</td>\n",
       "      <td>Universal Pictures|Original Film|Media Rights ...</td>\n",
       "      <td>4/1/15</td>\n",
       "      <td>2947</td>\n",
       "      <td>7.3</td>\n",
       "      <td>2015</td>\n",
       "      <td>1.747999e+08</td>\n",
       "      <td>1.385749e+09</td>\n",
       "    </tr>\n",
       "  </tbody>\n",
       "</table>\n",
       "<p>5 rows × 21 columns</p>\n",
       "</div>"
      ],
      "text/plain": [
       "       id    imdb_id  popularity     budget     revenue  \\\n",
       "0  135397  tt0369610   32.985763  150000000  1513528810   \n",
       "1   76341  tt1392190   28.419936  150000000   378436354   \n",
       "2  262500  tt2908446   13.112507  110000000   295238201   \n",
       "3  140607  tt2488496   11.173104  200000000  2068178225   \n",
       "4  168259  tt2820852    9.335014  190000000  1506249360   \n",
       "\n",
       "                 original_title  \\\n",
       "0                Jurassic World   \n",
       "1            Mad Max: Fury Road   \n",
       "2                     Insurgent   \n",
       "3  Star Wars: The Force Awakens   \n",
       "4                     Furious 7   \n",
       "\n",
       "                                                cast  \\\n",
       "0  Chris Pratt|Bryce Dallas Howard|Irrfan Khan|Vi...   \n",
       "1  Tom Hardy|Charlize Theron|Hugh Keays-Byrne|Nic...   \n",
       "2  Shailene Woodley|Theo James|Kate Winslet|Ansel...   \n",
       "3  Harrison Ford|Mark Hamill|Carrie Fisher|Adam D...   \n",
       "4  Vin Diesel|Paul Walker|Jason Statham|Michelle ...   \n",
       "\n",
       "                                            homepage          director  \\\n",
       "0                      http://www.jurassicworld.com/   Colin Trevorrow   \n",
       "1                        http://www.madmaxmovie.com/     George Miller   \n",
       "2     http://www.thedivergentseries.movie/#insurgent  Robert Schwentke   \n",
       "3  http://www.starwars.com/films/star-wars-episod...       J.J. Abrams   \n",
       "4                           http://www.furious7.com/         James Wan   \n",
       "\n",
       "                         tagline  ...  \\\n",
       "0              The park is open.  ...   \n",
       "1             What a Lovely Day.  ...   \n",
       "2     One Choice Can Destroy You  ...   \n",
       "3  Every generation has a story.  ...   \n",
       "4            Vengeance Hits Home  ...   \n",
       "\n",
       "                                            overview runtime  \\\n",
       "0  Twenty-two years after the events of Jurassic ...     124   \n",
       "1  An apocalyptic story set in the furthest reach...     120   \n",
       "2  Beatrice Prior must confront her inner demons ...     119   \n",
       "3  Thirty years after defeating the Galactic Empi...     136   \n",
       "4  Deckard Shaw seeks revenge against Dominic Tor...     137   \n",
       "\n",
       "                                      genres  \\\n",
       "0  Action|Adventure|Science Fiction|Thriller   \n",
       "1  Action|Adventure|Science Fiction|Thriller   \n",
       "2         Adventure|Science Fiction|Thriller   \n",
       "3   Action|Adventure|Science Fiction|Fantasy   \n",
       "4                      Action|Crime|Thriller   \n",
       "\n",
       "                                production_companies release_date vote_count  \\\n",
       "0  Universal Studios|Amblin Entertainment|Legenda...       6/9/15       5562   \n",
       "1  Village Roadshow Pictures|Kennedy Miller Produ...      5/13/15       6185   \n",
       "2  Summit Entertainment|Mandeville Films|Red Wago...      3/18/15       2480   \n",
       "3          Lucasfilm|Truenorth Productions|Bad Robot     12/15/15       5292   \n",
       "4  Universal Pictures|Original Film|Media Rights ...       4/1/15       2947   \n",
       "\n",
       "   vote_average  release_year    budget_adj   revenue_adj  \n",
       "0           6.5          2015  1.379999e+08  1.392446e+09  \n",
       "1           7.1          2015  1.379999e+08  3.481613e+08  \n",
       "2           6.3          2015  1.012000e+08  2.716190e+08  \n",
       "3           7.5          2015  1.839999e+08  1.902723e+09  \n",
       "4           7.3          2015  1.747999e+08  1.385749e+09  \n",
       "\n",
       "[5 rows x 21 columns]"
      ]
     },
     "execution_count": 5,
     "metadata": {},
     "output_type": "execute_result"
    }
   ],
   "source": [
    "# Load your data and print out a few lines. Perform operations to inspect data\n",
    "#   types and look for instances of missing or possibly errant data.\n",
    "df = pd.read_csv('tmdb-movies.csv')\n",
    "df.head() \n",
    "# Getting some rows to see what the data is about"
   ]
  },
  {
   "cell_type": "code",
   "execution_count": 6,
   "metadata": {},
   "outputs": [
    {
     "data": {
      "text/plain": [
       "(10866, 21)"
      ]
     },
     "execution_count": 6,
     "metadata": {},
     "output_type": "execute_result"
    }
   ],
   "source": [
    "df.shape\n",
    "#get to know about how many rows and columns"
   ]
  },
  {
   "cell_type": "code",
   "execution_count": 7,
   "metadata": {},
   "outputs": [
    {
     "name": "stdout",
     "output_type": "stream",
     "text": [
      "<class 'pandas.core.frame.DataFrame'>\n",
      "RangeIndex: 10866 entries, 0 to 10865\n",
      "Data columns (total 21 columns):\n",
      " #   Column                Non-Null Count  Dtype  \n",
      "---  ------                --------------  -----  \n",
      " 0   id                    10866 non-null  int64  \n",
      " 1   imdb_id               10856 non-null  object \n",
      " 2   popularity            10866 non-null  float64\n",
      " 3   budget                10866 non-null  int64  \n",
      " 4   revenue               10866 non-null  int64  \n",
      " 5   original_title        10866 non-null  object \n",
      " 6   cast                  10790 non-null  object \n",
      " 7   homepage              2936 non-null   object \n",
      " 8   director              10822 non-null  object \n",
      " 9   tagline               8042 non-null   object \n",
      " 10  keywords              9373 non-null   object \n",
      " 11  overview              10862 non-null  object \n",
      " 12  runtime               10866 non-null  int64  \n",
      " 13  genres                10843 non-null  object \n",
      " 14  production_companies  9836 non-null   object \n",
      " 15  release_date          10866 non-null  object \n",
      " 16  vote_count            10866 non-null  int64  \n",
      " 17  vote_average          10866 non-null  float64\n",
      " 18  release_year          10866 non-null  int64  \n",
      " 19  budget_adj            10866 non-null  float64\n",
      " 20  revenue_adj           10866 non-null  float64\n",
      "dtypes: float64(4), int64(6), object(11)\n",
      "memory usage: 1.7+ MB\n"
     ]
    }
   ],
   "source": [
    "df.info()\n",
    "#understanding the types of data we have.\n",
    "#here the object data are categorical variables."
   ]
  },
  {
   "cell_type": "code",
   "execution_count": 8,
   "metadata": {},
   "outputs": [
    {
     "data": {
      "text/plain": [
       "id                         0\n",
       "imdb_id                   10\n",
       "popularity                 0\n",
       "budget                     0\n",
       "revenue                    0\n",
       "original_title             0\n",
       "cast                      76\n",
       "homepage                7930\n",
       "director                  44\n",
       "tagline                 2824\n",
       "keywords                1493\n",
       "overview                   4\n",
       "runtime                    0\n",
       "genres                    23\n",
       "production_companies    1030\n",
       "release_date               0\n",
       "vote_count                 0\n",
       "vote_average               0\n",
       "release_year               0\n",
       "budget_adj                 0\n",
       "revenue_adj                0\n",
       "dtype: int64"
      ]
     },
     "execution_count": 8,
     "metadata": {},
     "output_type": "execute_result"
    }
   ],
   "source": [
    "df.isnull().sum()\n",
    "# we can see how many columns have how many null values."
   ]
  },
  {
   "cell_type": "code",
   "execution_count": 9,
   "metadata": {},
   "outputs": [
    {
     "data": {
      "text/html": [
       "<div>\n",
       "<style scoped>\n",
       "    .dataframe tbody tr th:only-of-type {\n",
       "        vertical-align: middle;\n",
       "    }\n",
       "\n",
       "    .dataframe tbody tr th {\n",
       "        vertical-align: top;\n",
       "    }\n",
       "\n",
       "    .dataframe thead th {\n",
       "        text-align: right;\n",
       "    }\n",
       "</style>\n",
       "<table border=\"1\" class=\"dataframe\">\n",
       "  <thead>\n",
       "    <tr style=\"text-align: right;\">\n",
       "      <th></th>\n",
       "      <th>id</th>\n",
       "      <th>popularity</th>\n",
       "      <th>budget</th>\n",
       "      <th>revenue</th>\n",
       "      <th>runtime</th>\n",
       "      <th>vote_count</th>\n",
       "      <th>vote_average</th>\n",
       "      <th>release_year</th>\n",
       "      <th>budget_adj</th>\n",
       "      <th>revenue_adj</th>\n",
       "    </tr>\n",
       "  </thead>\n",
       "  <tbody>\n",
       "    <tr>\n",
       "      <th>count</th>\n",
       "      <td>10866.00000</td>\n",
       "      <td>10866.00000</td>\n",
       "      <td>10866.00000</td>\n",
       "      <td>10866.00000</td>\n",
       "      <td>10866.00000</td>\n",
       "      <td>10866.00000</td>\n",
       "      <td>10866.00000</td>\n",
       "      <td>10866.00000</td>\n",
       "      <td>10866.00000</td>\n",
       "      <td>10866.00000</td>\n",
       "    </tr>\n",
       "    <tr>\n",
       "      <th>mean</th>\n",
       "      <td>66064.17743</td>\n",
       "      <td>0.64644</td>\n",
       "      <td>14625701.09415</td>\n",
       "      <td>39823319.79339</td>\n",
       "      <td>102.07086</td>\n",
       "      <td>217.38975</td>\n",
       "      <td>5.97492</td>\n",
       "      <td>2001.32266</td>\n",
       "      <td>17551039.82289</td>\n",
       "      <td>51364363.25325</td>\n",
       "    </tr>\n",
       "    <tr>\n",
       "      <th>std</th>\n",
       "      <td>92130.13656</td>\n",
       "      <td>1.00018</td>\n",
       "      <td>30913213.83144</td>\n",
       "      <td>117003486.58209</td>\n",
       "      <td>31.38141</td>\n",
       "      <td>575.61906</td>\n",
       "      <td>0.93514</td>\n",
       "      <td>12.81294</td>\n",
       "      <td>34306155.72284</td>\n",
       "      <td>144632485.03997</td>\n",
       "    </tr>\n",
       "    <tr>\n",
       "      <th>min</th>\n",
       "      <td>5.00000</td>\n",
       "      <td>0.00007</td>\n",
       "      <td>0.00000</td>\n",
       "      <td>0.00000</td>\n",
       "      <td>0.00000</td>\n",
       "      <td>10.00000</td>\n",
       "      <td>1.50000</td>\n",
       "      <td>1960.00000</td>\n",
       "      <td>0.00000</td>\n",
       "      <td>0.00000</td>\n",
       "    </tr>\n",
       "    <tr>\n",
       "      <th>25%</th>\n",
       "      <td>10596.25000</td>\n",
       "      <td>0.20758</td>\n",
       "      <td>0.00000</td>\n",
       "      <td>0.00000</td>\n",
       "      <td>90.00000</td>\n",
       "      <td>17.00000</td>\n",
       "      <td>5.40000</td>\n",
       "      <td>1995.00000</td>\n",
       "      <td>0.00000</td>\n",
       "      <td>0.00000</td>\n",
       "    </tr>\n",
       "    <tr>\n",
       "      <th>50%</th>\n",
       "      <td>20669.00000</td>\n",
       "      <td>0.38386</td>\n",
       "      <td>0.00000</td>\n",
       "      <td>0.00000</td>\n",
       "      <td>99.00000</td>\n",
       "      <td>38.00000</td>\n",
       "      <td>6.00000</td>\n",
       "      <td>2006.00000</td>\n",
       "      <td>0.00000</td>\n",
       "      <td>0.00000</td>\n",
       "    </tr>\n",
       "    <tr>\n",
       "      <th>75%</th>\n",
       "      <td>75610.00000</td>\n",
       "      <td>0.71382</td>\n",
       "      <td>15000000.00000</td>\n",
       "      <td>24000000.00000</td>\n",
       "      <td>111.00000</td>\n",
       "      <td>145.75000</td>\n",
       "      <td>6.60000</td>\n",
       "      <td>2011.00000</td>\n",
       "      <td>20853251.08440</td>\n",
       "      <td>33697095.71731</td>\n",
       "    </tr>\n",
       "    <tr>\n",
       "      <th>max</th>\n",
       "      <td>417859.00000</td>\n",
       "      <td>32.98576</td>\n",
       "      <td>425000000.00000</td>\n",
       "      <td>2781505847.00000</td>\n",
       "      <td>900.00000</td>\n",
       "      <td>9767.00000</td>\n",
       "      <td>9.20000</td>\n",
       "      <td>2015.00000</td>\n",
       "      <td>425000000.00000</td>\n",
       "      <td>2827123750.41189</td>\n",
       "    </tr>\n",
       "  </tbody>\n",
       "</table>\n",
       "</div>"
      ],
      "text/plain": [
       "                id  popularity          budget          revenue     runtime  \\\n",
       "count  10866.00000 10866.00000     10866.00000      10866.00000 10866.00000   \n",
       "mean   66064.17743     0.64644  14625701.09415   39823319.79339   102.07086   \n",
       "std    92130.13656     1.00018  30913213.83144  117003486.58209    31.38141   \n",
       "min        5.00000     0.00007         0.00000          0.00000     0.00000   \n",
       "25%    10596.25000     0.20758         0.00000          0.00000    90.00000   \n",
       "50%    20669.00000     0.38386         0.00000          0.00000    99.00000   \n",
       "75%    75610.00000     0.71382  15000000.00000   24000000.00000   111.00000   \n",
       "max   417859.00000    32.98576 425000000.00000 2781505847.00000   900.00000   \n",
       "\n",
       "       vote_count  vote_average  release_year      budget_adj      revenue_adj  \n",
       "count 10866.00000   10866.00000   10866.00000     10866.00000      10866.00000  \n",
       "mean    217.38975       5.97492    2001.32266  17551039.82289   51364363.25325  \n",
       "std     575.61906       0.93514      12.81294  34306155.72284  144632485.03997  \n",
       "min      10.00000       1.50000    1960.00000         0.00000          0.00000  \n",
       "25%      17.00000       5.40000    1995.00000         0.00000          0.00000  \n",
       "50%      38.00000       6.00000    2006.00000         0.00000          0.00000  \n",
       "75%     145.75000       6.60000    2011.00000  20853251.08440   33697095.71731  \n",
       "max    9767.00000       9.20000    2015.00000 425000000.00000 2827123750.41189  "
      ]
     },
     "execution_count": 9,
     "metadata": {},
     "output_type": "execute_result"
    }
   ],
   "source": [
    "pd.options.display.float_format = '{:.5f}'.format\n",
    "df.describe()\n",
    "# getting basic ideas about the statistics of data"
   ]
  },
  {
   "cell_type": "markdown",
   "metadata": {},
   "source": [
    "### Some observations we can make here is:\n",
    "1. 64% movies have popularity.\n",
    "2. budget,revenue is skweed in nature.\n",
    "3. Majority of vote counts is between 17 and 145 highest being around 9.7k\n",
    "4. Most of the movies were released in the year 2006 \n",
    "5. The data has movies from 1960 to 2015.\n",
    "6. We have lot of missing data in our datasets."
   ]
  },
  {
   "cell_type": "code",
   "execution_count": 10,
   "metadata": {},
   "outputs": [
    {
     "data": {
      "text/plain": [
       "Index(['id', 'imdb_id', 'popularity', 'budget', 'revenue', 'original_title',\n",
       "       'cast', 'homepage', 'director', 'tagline', 'keywords', 'overview',\n",
       "       'runtime', 'genres', 'production_companies', 'release_date',\n",
       "       'vote_count', 'vote_average', 'release_year', 'budget_adj',\n",
       "       'revenue_adj'],\n",
       "      dtype='object')"
      ]
     },
     "execution_count": 10,
     "metadata": {},
     "output_type": "execute_result"
    }
   ],
   "source": [
    "df.columns\n",
    "# getting the columns so we know what is needed to be dropped."
   ]
  },
  {
   "cell_type": "markdown",
   "metadata": {},
   "source": [
    "> **Tip**: You should _not_ perform too many operations in each cell. Create cells freely to explore your data. One option that you can take with this project is to do a lot of explorations in an initial notebook. These don't have to be organized, but make sure you use enough comments to understand the purpose of each code cell. Then, after you're done with your analysis, create a duplicate notebook where you will trim the excess and organize your steps so that you have a flowing, cohesive report.\n",
    "\n",
    "> **Tip**: Make sure that you keep your reader informed on the steps that you are taking in your investigation. Follow every code cell, or every set of related code cells, with a markdown cell to describe to the reader what was found in the preceding cell(s). Try to make it so that the reader can then understand what they will be seeing in the following cell(s).\n",
    "\n",
    "### Data Cleaning (Replace this with more specific notes!)"
   ]
  },
  {
   "cell_type": "code",
   "execution_count": 11,
   "metadata": {},
   "outputs": [],
   "source": [
    "# After discussing the structure of the data and any problems that need to be\n",
    "#   cleaned, perform those cleaning steps in the second part of this section.\n",
    "df.drop(['id','imdb_id','homepage','tagline', 'keywords', 'overview'\n",
    "       ,  'production_companies', 'release_date'],axis=1,inplace = True)"
   ]
  },
  {
   "cell_type": "code",
   "execution_count": 12,
   "metadata": {},
   "outputs": [
    {
     "data": {
      "text/html": [
       "<div>\n",
       "<style scoped>\n",
       "    .dataframe tbody tr th:only-of-type {\n",
       "        vertical-align: middle;\n",
       "    }\n",
       "\n",
       "    .dataframe tbody tr th {\n",
       "        vertical-align: top;\n",
       "    }\n",
       "\n",
       "    .dataframe thead th {\n",
       "        text-align: right;\n",
       "    }\n",
       "</style>\n",
       "<table border=\"1\" class=\"dataframe\">\n",
       "  <thead>\n",
       "    <tr style=\"text-align: right;\">\n",
       "      <th></th>\n",
       "      <th>popularity</th>\n",
       "      <th>budget</th>\n",
       "      <th>revenue</th>\n",
       "      <th>original_title</th>\n",
       "      <th>cast</th>\n",
       "      <th>director</th>\n",
       "      <th>runtime</th>\n",
       "      <th>genres</th>\n",
       "      <th>vote_count</th>\n",
       "      <th>vote_average</th>\n",
       "      <th>release_year</th>\n",
       "      <th>budget_adj</th>\n",
       "      <th>revenue_adj</th>\n",
       "    </tr>\n",
       "  </thead>\n",
       "  <tbody>\n",
       "    <tr>\n",
       "      <th>0</th>\n",
       "      <td>32.98576</td>\n",
       "      <td>150000000</td>\n",
       "      <td>1513528810</td>\n",
       "      <td>Jurassic World</td>\n",
       "      <td>Chris Pratt|Bryce Dallas Howard|Irrfan Khan|Vi...</td>\n",
       "      <td>Colin Trevorrow</td>\n",
       "      <td>124</td>\n",
       "      <td>Action|Adventure|Science Fiction|Thriller</td>\n",
       "      <td>5562</td>\n",
       "      <td>6.50000</td>\n",
       "      <td>2015</td>\n",
       "      <td>137999939.28003</td>\n",
       "      <td>1392445892.52380</td>\n",
       "    </tr>\n",
       "    <tr>\n",
       "      <th>1</th>\n",
       "      <td>28.41994</td>\n",
       "      <td>150000000</td>\n",
       "      <td>378436354</td>\n",
       "      <td>Mad Max: Fury Road</td>\n",
       "      <td>Tom Hardy|Charlize Theron|Hugh Keays-Byrne|Nic...</td>\n",
       "      <td>George Miller</td>\n",
       "      <td>120</td>\n",
       "      <td>Action|Adventure|Science Fiction|Thriller</td>\n",
       "      <td>6185</td>\n",
       "      <td>7.10000</td>\n",
       "      <td>2015</td>\n",
       "      <td>137999939.28003</td>\n",
       "      <td>348161292.48903</td>\n",
       "    </tr>\n",
       "    <tr>\n",
       "      <th>2</th>\n",
       "      <td>13.11251</td>\n",
       "      <td>110000000</td>\n",
       "      <td>295238201</td>\n",
       "      <td>Insurgent</td>\n",
       "      <td>Shailene Woodley|Theo James|Kate Winslet|Ansel...</td>\n",
       "      <td>Robert Schwentke</td>\n",
       "      <td>119</td>\n",
       "      <td>Adventure|Science Fiction|Thriller</td>\n",
       "      <td>2480</td>\n",
       "      <td>6.30000</td>\n",
       "      <td>2015</td>\n",
       "      <td>101199955.47202</td>\n",
       "      <td>271619025.40763</td>\n",
       "    </tr>\n",
       "    <tr>\n",
       "      <th>3</th>\n",
       "      <td>11.17310</td>\n",
       "      <td>200000000</td>\n",
       "      <td>2068178225</td>\n",
       "      <td>Star Wars: The Force Awakens</td>\n",
       "      <td>Harrison Ford|Mark Hamill|Carrie Fisher|Adam D...</td>\n",
       "      <td>J.J. Abrams</td>\n",
       "      <td>136</td>\n",
       "      <td>Action|Adventure|Science Fiction|Fantasy</td>\n",
       "      <td>5292</td>\n",
       "      <td>7.50000</td>\n",
       "      <td>2015</td>\n",
       "      <td>183999919.04004</td>\n",
       "      <td>1902723129.80182</td>\n",
       "    </tr>\n",
       "    <tr>\n",
       "      <th>4</th>\n",
       "      <td>9.33501</td>\n",
       "      <td>190000000</td>\n",
       "      <td>1506249360</td>\n",
       "      <td>Furious 7</td>\n",
       "      <td>Vin Diesel|Paul Walker|Jason Statham|Michelle ...</td>\n",
       "      <td>James Wan</td>\n",
       "      <td>137</td>\n",
       "      <td>Action|Crime|Thriller</td>\n",
       "      <td>2947</td>\n",
       "      <td>7.30000</td>\n",
       "      <td>2015</td>\n",
       "      <td>174799923.08803</td>\n",
       "      <td>1385748801.47052</td>\n",
       "    </tr>\n",
       "  </tbody>\n",
       "</table>\n",
       "</div>"
      ],
      "text/plain": [
       "   popularity     budget     revenue                original_title  \\\n",
       "0    32.98576  150000000  1513528810                Jurassic World   \n",
       "1    28.41994  150000000   378436354            Mad Max: Fury Road   \n",
       "2    13.11251  110000000   295238201                     Insurgent   \n",
       "3    11.17310  200000000  2068178225  Star Wars: The Force Awakens   \n",
       "4     9.33501  190000000  1506249360                     Furious 7   \n",
       "\n",
       "                                                cast          director  \\\n",
       "0  Chris Pratt|Bryce Dallas Howard|Irrfan Khan|Vi...   Colin Trevorrow   \n",
       "1  Tom Hardy|Charlize Theron|Hugh Keays-Byrne|Nic...     George Miller   \n",
       "2  Shailene Woodley|Theo James|Kate Winslet|Ansel...  Robert Schwentke   \n",
       "3  Harrison Ford|Mark Hamill|Carrie Fisher|Adam D...       J.J. Abrams   \n",
       "4  Vin Diesel|Paul Walker|Jason Statham|Michelle ...         James Wan   \n",
       "\n",
       "   runtime                                     genres  vote_count  \\\n",
       "0      124  Action|Adventure|Science Fiction|Thriller        5562   \n",
       "1      120  Action|Adventure|Science Fiction|Thriller        6185   \n",
       "2      119         Adventure|Science Fiction|Thriller        2480   \n",
       "3      136   Action|Adventure|Science Fiction|Fantasy        5292   \n",
       "4      137                      Action|Crime|Thriller        2947   \n",
       "\n",
       "   vote_average  release_year      budget_adj      revenue_adj  \n",
       "0       6.50000          2015 137999939.28003 1392445892.52380  \n",
       "1       7.10000          2015 137999939.28003  348161292.48903  \n",
       "2       6.30000          2015 101199955.47202  271619025.40763  \n",
       "3       7.50000          2015 183999919.04004 1902723129.80182  \n",
       "4       7.30000          2015 174799923.08803 1385748801.47052  "
      ]
     },
     "execution_count": 12,
     "metadata": {},
     "output_type": "execute_result"
    }
   ],
   "source": [
    "df.head()\n",
    "#we cleaned by removing unwanted columns"
   ]
  },
  {
   "cell_type": "code",
   "execution_count": 13,
   "metadata": {},
   "outputs": [
    {
     "data": {
      "text/plain": [
       "Hamlet                  4\n",
       "Emma                    3\n",
       "Annie                   3\n",
       "Beauty and the Beast    3\n",
       "Oliver Twist            3\n",
       "Name: original_title, dtype: int64"
      ]
     },
     "execution_count": 13,
     "metadata": {},
     "output_type": "execute_result"
    }
   ],
   "source": [
    "df['original_title'].value_counts().head()\n",
    "# there are a few duplications"
   ]
  },
  {
   "cell_type": "code",
   "execution_count": 14,
   "metadata": {},
   "outputs": [
    {
     "name": "stdout",
     "output_type": "stream",
     "text": [
      "       popularity   budget   revenue original_title  \\\n",
      "1890      0.08649        0         0         Hamlet   \n",
      "8573      0.38347        0         0         Hamlet   \n",
      "8797      0.27780  2000000   1568749         Hamlet   \n",
      "10106     0.06797        0  20710451         Hamlet   \n",
      "\n",
      "                                                    cast           director  \\\n",
      "1890   David Tennant|Patrick Stewart|Penny Downie|Oli...      Gregory Doran   \n",
      "8573   Kenneth Branagh|Derek Jacobi|Julie Christie|Ri...    Kenneth Branagh   \n",
      "8797   Ethan Hawke|Kyle MacLachlan|Diane Venora|Sam S...  Michael Almereyda   \n",
      "10106  Mel Gibson|Glenn Close|Alan Bates|Paul Scofiel...  Franco Zeffirelli   \n",
      "\n",
      "       runtime         genres  vote_count  vote_average  release_year  \\\n",
      "1890       185          Drama          13       6.40000          2009   \n",
      "8573       242          Drama          51       6.70000          1996   \n",
      "8797       112          Drama          18       5.00000          2000   \n",
      "10106      130  Drama|History          43       6.50000          1990   \n",
      "\n",
      "         budget_adj    revenue_adj  \n",
      "1890        0.00000        0.00000  \n",
      "8573        0.00000        0.00000  \n",
      "8797  2532584.22869  1986494.48808  \n",
      "10106       0.00000 34563641.44316  \n",
      "=================================================================================================\n",
      "      popularity   budget   revenue original_title  \\\n",
      "1802     0.18921        0         0           Emma   \n",
      "8550     0.47749  6000000  22231658           Emma   \n",
      "8646     0.16160        0         0           Emma   \n",
      "\n",
      "                                                   cast           director  \\\n",
      "1802  Romola Garai|Michael Gambon|Jonny Lee Miller|L...       Jim O'Hanlon   \n",
      "8550  Gwyneth Paltrow|Toni Collette|Alan Cumming|Ewa...    Douglas McGrath   \n",
      "8646  Kate Beckinsale|Bernard Hepton|Mark Strong|Sam...  Diarmuid Lawrence   \n",
      "\n",
      "      runtime                         genres  vote_count  vote_average  \\\n",
      "1802      240           Romance|Comedy|Drama          17       7.60000   \n",
      "8550      121           Comedy|Drama|Romance          77       6.50000   \n",
      "8646      107  TV Movie|Comedy|Drama|Romance          15       6.60000   \n",
      "\n",
      "      release_year    budget_adj    revenue_adj  \n",
      "1802          2009       0.00000        0.00000  \n",
      "8550          1996 8341300.43376 30906823.08644  \n",
      "8646          1996       0.00000        0.00000  \n",
      "=================================================================================================\n",
      "      popularity    budget    revenue original_title  \\\n",
      "724      1.58801  65000000  133821816          Annie   \n",
      "2485     0.54872         0          0          Annie   \n",
      "8920     0.42175  50000000   57059003          Annie   \n",
      "\n",
      "                                                   cast      director  \\\n",
      "724   QuvenzhanÃ© Wallis|Jamie Foxx|Rose Byrne|Camer...    Will Gluck   \n",
      "2485  Kathy Bates|Victor Garber|Alan Cumming|Audra M...  Rob Marshall   \n",
      "8920  Aileen Quinn|Albert Finney|Carol Burnett|Ann R...   John Huston   \n",
      "\n",
      "      runtime                     genres  vote_count  vote_average  \\\n",
      "724       119  Music|Comedy|Drama|Family         331       6.10000   \n",
      "2485       90        Music|Family|Comedy          35       5.50000   \n",
      "8920      127  Comedy|Drama|Family|Music          99       6.20000   \n",
      "\n",
      "      release_year      budget_adj     revenue_adj  \n",
      "724           2014  59870918.30014 123262077.11558  \n",
      "2485          1999         0.00000         0.00000  \n",
      "8920          1982 112982120.12756 128932942.62610  \n",
      "=================================================================================================\n",
      "      popularity    budget    revenue        original_title  \\\n",
      "1586     0.47583         0          0  Beauty and the Beast   \n",
      "9316     3.85227  25000000  377350553  Beauty and the Beast   \n",
      "9700     0.17844         0          0  Beauty and the Beast   \n",
      "\n",
      "                                                   cast  \\\n",
      "1586  Estella Warren|Rhett Giles|Victor Parascos|Van...   \n",
      "9316  Paige O'Hara|Robby Benson|Richard White|Jerry ...   \n",
      "9700  John Savage|Rebecca De Mornay|Yossi Graber|Mic...   \n",
      "\n",
      "                      director  runtime  \\\n",
      "1586              David Lister       90   \n",
      "9316  Gary Trousdale|Kirk Wise       84   \n",
      "9700             Eugene Marner       94   \n",
      "\n",
      "                                      genres  vote_count  vote_average  \\\n",
      "1586                                 Fantasy          16       5.60000   \n",
      "9316  Romance|Family|Animation|Fantasy|Music        1703       7.30000   \n",
      "9700                    Music|Romance|Family          11       7.00000   \n",
      "\n",
      "      release_year     budget_adj     revenue_adj  \n",
      "1586          2009        0.00000         0.00000  \n",
      "9316          1991 40027321.04825 604173269.30670  \n",
      "9700          1987        0.00000         0.00000  \n",
      "=================================================================================================\n",
      "      popularity    budget   revenue original_title  \\\n",
      "6272     0.82657  50000000  42093706   Oliver Twist   \n",
      "7744     0.15926         0         0   Oliver Twist   \n",
      "8963     0.05175         0         0   Oliver Twist   \n",
      "\n",
      "                                                   cast        director  \\\n",
      "6272  Barney Clark|Ben Kingsley|Jamie Foreman|Harry ...  Roman Polanski   \n",
      "7744  Timothy Spall|William Miller|Tom Hardy|Sophie ...   Coky Giedroyc   \n",
      "8963  George C. Scott|Tim Curry|Michael Hordern|Timo...    Clive Donner   \n",
      "\n",
      "      runtime                genres  vote_count  vote_average  release_year  \\\n",
      "6272      130    Crime|Drama|Family         143       6.60000          2005   \n",
      "7744      176      Adventure|Family          16       5.80000          2007   \n",
      "8963      103  TV Movie|Crime|Drama          15       6.00000          1982   \n",
      "\n",
      "         budget_adj    revenue_adj  \n",
      "6272 55828164.48272 47000286.84511  \n",
      "7744        0.00000        0.00000  \n",
      "8963        0.00000        0.00000  \n",
      "=================================================================================================\n"
     ]
    }
   ],
   "source": [
    "check_list = df['original_title'].value_counts().head().index.tolist()\n",
    "for i in check_list:\n",
    "    df_dup = df[df['original_title'] == i]\n",
    "    print(df_dup)\n",
    "    print('=================================================================================================')\n",
    "    \n",
    "# since we can see that the same title have diffrent values, so we dont drop them."
   ]
  },
  {
   "cell_type": "code",
   "execution_count": 15,
   "metadata": {},
   "outputs": [
    {
     "data": {
      "text/plain": [
       "1"
      ]
     },
     "execution_count": 15,
     "metadata": {},
     "output_type": "execute_result"
    }
   ],
   "source": [
    "df.duplicated().sum() ## returned 1\n"
   ]
  },
  {
   "cell_type": "code",
   "execution_count": 16,
   "metadata": {},
   "outputs": [
    {
     "data": {
      "text/plain": [
       "0"
      ]
     },
     "execution_count": 16,
     "metadata": {},
     "output_type": "execute_result"
    }
   ],
   "source": [
    "df.drop_duplicates(keep=False,inplace=True)\n",
    "df.duplicated().sum() ## returns 0 , so duplicate is deleted."
   ]
  },
  {
   "cell_type": "code",
   "execution_count": 17,
   "metadata": {},
   "outputs": [
    {
     "data": {
      "text/plain": [
       "popularity         0\n",
       "budget             0\n",
       "revenue            0\n",
       "original_title     0\n",
       "cast              76\n",
       "director          44\n",
       "runtime            0\n",
       "genres            23\n",
       "vote_count         0\n",
       "vote_average       0\n",
       "release_year       0\n",
       "budget_adj         0\n",
       "revenue_adj        0\n",
       "dtype: int64"
      ]
     },
     "execution_count": 17,
     "metadata": {},
     "output_type": "execute_result"
    }
   ],
   "source": [
    "df.isnull().sum()"
   ]
  },
  {
   "cell_type": "code",
   "execution_count": 18,
   "metadata": {},
   "outputs": [
    {
     "data": {
      "text/plain": [
       "(10864, 13)"
      ]
     },
     "execution_count": 18,
     "metadata": {},
     "output_type": "execute_result"
    }
   ],
   "source": [
    "df.shape"
   ]
  },
  {
   "cell_type": "code",
   "execution_count": 19,
   "metadata": {},
   "outputs": [],
   "source": [
    "df.dropna(axis=0,inplace=True)\n",
    "# dropping the null valued genere rows"
   ]
  },
  {
   "cell_type": "code",
   "execution_count": 20,
   "metadata": {},
   "outputs": [
    {
     "data": {
      "text/plain": [
       "(10730, 13)"
      ]
     },
     "execution_count": 20,
     "metadata": {},
     "output_type": "execute_result"
    }
   ],
   "source": [
    "df.shape"
   ]
  },
  {
   "cell_type": "code",
   "execution_count": 21,
   "metadata": {},
   "outputs": [
    {
     "data": {
      "text/plain": [
       "popularity        0\n",
       "budget            0\n",
       "revenue           0\n",
       "original_title    0\n",
       "cast              0\n",
       "director          0\n",
       "runtime           0\n",
       "genres            0\n",
       "vote_count        0\n",
       "vote_average      0\n",
       "release_year      0\n",
       "budget_adj        0\n",
       "revenue_adj       0\n",
       "dtype: int64"
      ]
     },
     "execution_count": 21,
     "metadata": {},
     "output_type": "execute_result"
    }
   ],
   "source": [
    "df.isnull().sum()\n",
    "# now we dont have any null values"
   ]
  },
  {
   "cell_type": "code",
   "execution_count": 22,
   "metadata": {},
   "outputs": [
    {
     "data": {
      "text/plain": [
       "array([[<matplotlib.axes._subplots.AxesSubplot object at 0x7f3e9365ab90>,\n",
       "        <matplotlib.axes._subplots.AxesSubplot object at 0x7f3e93c23090>,\n",
       "        <matplotlib.axes._subplots.AxesSubplot object at 0x7f3e921a1b10>],\n",
       "       [<matplotlib.axes._subplots.AxesSubplot object at 0x7f3e9215ce90>,\n",
       "        <matplotlib.axes._subplots.AxesSubplot object at 0x7f3e9210fb50>,\n",
       "        <matplotlib.axes._subplots.AxesSubplot object at 0x7f3e920c8ed0>],\n",
       "       [<matplotlib.axes._subplots.AxesSubplot object at 0x7f3e9207cb90>,\n",
       "        <matplotlib.axes._subplots.AxesSubplot object at 0x7f3e92035f10>,\n",
       "        <matplotlib.axes._subplots.AxesSubplot object at 0x7f3e92040050>]],\n",
       "      dtype=object)"
      ]
     },
     "execution_count": 22,
     "metadata": {},
     "output_type": "execute_result"
    },
    {
     "data": {
      "image/png": "[encoded data removed]",
      "text/plain": [
       "<Figure size 720x720 with 9 Axes>"
      ]
     },
     "metadata": {
      "needs_background": "light"
     },
     "output_type": "display_data"
    }
   ],
   "source": [
    "df.hist(figsize=(10,10))\n",
    "# release_year,runtime is scewed towards the left\n",
    "# vote_average has normal distribution\n",
    "# all others are scewed towards the right"
   ]
  },
  {
   "cell_type": "code",
   "execution_count": 23,
   "metadata": {},
   "outputs": [
    {
     "data": {
      "text/html": [
       "<div>\n",
       "<style scoped>\n",
       "    .dataframe tbody tr th:only-of-type {\n",
       "        vertical-align: middle;\n",
       "    }\n",
       "\n",
       "    .dataframe tbody tr th {\n",
       "        vertical-align: top;\n",
       "    }\n",
       "\n",
       "    .dataframe thead th {\n",
       "        text-align: right;\n",
       "    }\n",
       "</style>\n",
       "<table border=\"1\" class=\"dataframe\">\n",
       "  <thead>\n",
       "    <tr style=\"text-align: right;\">\n",
       "      <th></th>\n",
       "      <th>popularity</th>\n",
       "      <th>budget</th>\n",
       "      <th>revenue</th>\n",
       "      <th>original_title</th>\n",
       "      <th>cast</th>\n",
       "      <th>director</th>\n",
       "      <th>runtime</th>\n",
       "      <th>genres</th>\n",
       "      <th>vote_count</th>\n",
       "      <th>vote_average</th>\n",
       "      <th>release_year</th>\n",
       "      <th>budget_adj</th>\n",
       "      <th>revenue_adj</th>\n",
       "    </tr>\n",
       "  </thead>\n",
       "  <tbody>\n",
       "    <tr>\n",
       "      <th>0</th>\n",
       "      <td>32.98576</td>\n",
       "      <td>150000000</td>\n",
       "      <td>1513528810</td>\n",
       "      <td>Jurassic World</td>\n",
       "      <td>Chris Pratt|Bryce Dallas Howard|Irrfan Khan|Vi...</td>\n",
       "      <td>Colin Trevorrow</td>\n",
       "      <td>124</td>\n",
       "      <td>Action|Adventure|Science Fiction|Thriller</td>\n",
       "      <td>5562</td>\n",
       "      <td>6.50000</td>\n",
       "      <td>2015</td>\n",
       "      <td>137999939.28003</td>\n",
       "      <td>1392445892.52380</td>\n",
       "    </tr>\n",
       "    <tr>\n",
       "      <th>1</th>\n",
       "      <td>28.41994</td>\n",
       "      <td>150000000</td>\n",
       "      <td>378436354</td>\n",
       "      <td>Mad Max: Fury Road</td>\n",
       "      <td>Tom Hardy|Charlize Theron|Hugh Keays-Byrne|Nic...</td>\n",
       "      <td>George Miller</td>\n",
       "      <td>120</td>\n",
       "      <td>Action|Adventure|Science Fiction|Thriller</td>\n",
       "      <td>6185</td>\n",
       "      <td>7.10000</td>\n",
       "      <td>2015</td>\n",
       "      <td>137999939.28003</td>\n",
       "      <td>348161292.48903</td>\n",
       "    </tr>\n",
       "    <tr>\n",
       "      <th>2</th>\n",
       "      <td>13.11251</td>\n",
       "      <td>110000000</td>\n",
       "      <td>295238201</td>\n",
       "      <td>Insurgent</td>\n",
       "      <td>Shailene Woodley|Theo James|Kate Winslet|Ansel...</td>\n",
       "      <td>Robert Schwentke</td>\n",
       "      <td>119</td>\n",
       "      <td>Adventure|Science Fiction|Thriller</td>\n",
       "      <td>2480</td>\n",
       "      <td>6.30000</td>\n",
       "      <td>2015</td>\n",
       "      <td>101199955.47202</td>\n",
       "      <td>271619025.40763</td>\n",
       "    </tr>\n",
       "    <tr>\n",
       "      <th>3</th>\n",
       "      <td>11.17310</td>\n",
       "      <td>200000000</td>\n",
       "      <td>2068178225</td>\n",
       "      <td>Star Wars: The Force Awakens</td>\n",
       "      <td>Harrison Ford|Mark Hamill|Carrie Fisher|Adam D...</td>\n",
       "      <td>J.J. Abrams</td>\n",
       "      <td>136</td>\n",
       "      <td>Action|Adventure|Science Fiction|Fantasy</td>\n",
       "      <td>5292</td>\n",
       "      <td>7.50000</td>\n",
       "      <td>2015</td>\n",
       "      <td>183999919.04004</td>\n",
       "      <td>1902723129.80182</td>\n",
       "    </tr>\n",
       "    <tr>\n",
       "      <th>4</th>\n",
       "      <td>9.33501</td>\n",
       "      <td>190000000</td>\n",
       "      <td>1506249360</td>\n",
       "      <td>Furious 7</td>\n",
       "      <td>Vin Diesel|Paul Walker|Jason Statham|Michelle ...</td>\n",
       "      <td>James Wan</td>\n",
       "      <td>137</td>\n",
       "      <td>Action|Crime|Thriller</td>\n",
       "      <td>2947</td>\n",
       "      <td>7.30000</td>\n",
       "      <td>2015</td>\n",
       "      <td>174799923.08803</td>\n",
       "      <td>1385748801.47052</td>\n",
       "    </tr>\n",
       "  </tbody>\n",
       "</table>\n",
       "</div>"
      ],
      "text/plain": [
       "   popularity     budget     revenue                original_title  \\\n",
       "0    32.98576  150000000  1513528810                Jurassic World   \n",
       "1    28.41994  150000000   378436354            Mad Max: Fury Road   \n",
       "2    13.11251  110000000   295238201                     Insurgent   \n",
       "3    11.17310  200000000  2068178225  Star Wars: The Force Awakens   \n",
       "4     9.33501  190000000  1506249360                     Furious 7   \n",
       "\n",
       "                                                cast          director  \\\n",
       "0  Chris Pratt|Bryce Dallas Howard|Irrfan Khan|Vi...   Colin Trevorrow   \n",
       "1  Tom Hardy|Charlize Theron|Hugh Keays-Byrne|Nic...     George Miller   \n",
       "2  Shailene Woodley|Theo James|Kate Winslet|Ansel...  Robert Schwentke   \n",
       "3  Harrison Ford|Mark Hamill|Carrie Fisher|Adam D...       J.J. Abrams   \n",
       "4  Vin Diesel|Paul Walker|Jason Statham|Michelle ...         James Wan   \n",
       "\n",
       "   runtime                                     genres  vote_count  \\\n",
       "0      124  Action|Adventure|Science Fiction|Thriller        5562   \n",
       "1      120  Action|Adventure|Science Fiction|Thriller        6185   \n",
       "2      119         Adventure|Science Fiction|Thriller        2480   \n",
       "3      136   Action|Adventure|Science Fiction|Fantasy        5292   \n",
       "4      137                      Action|Crime|Thriller        2947   \n",
       "\n",
       "   vote_average  release_year      budget_adj      revenue_adj  \n",
       "0       6.50000          2015 137999939.28003 1392445892.52380  \n",
       "1       7.10000          2015 137999939.28003  348161292.48903  \n",
       "2       6.30000          2015 101199955.47202  271619025.40763  \n",
       "3       7.50000          2015 183999919.04004 1902723129.80182  \n",
       "4       7.30000          2015 174799923.08803 1385748801.47052  "
      ]
     },
     "execution_count": 23,
     "metadata": {},
     "output_type": "execute_result"
    }
   ],
   "source": [
    "df.head()"
   ]
  },
  {
   "cell_type": "code",
   "execution_count": null,
   "metadata": {},
   "outputs": [],
   "source": []
  },
  {
   "cell_type": "markdown",
   "metadata": {},
   "source": [
    "<a id='eda'></a>\n",
    "## Exploratory Data Analysis\n"
   ]
  },
  {
   "cell_type": "code",
   "execution_count": 24,
   "metadata": {},
   "outputs": [],
   "source": [
    "def max(column):\n",
    "    max_count = df[column].max()\n",
    "    return max_count\n",
    "    \n",
    "def min(column):\n",
    "    min_count = df[column].min()\n",
    "    return min_count\n",
    "    \n",
    "# max is used to get the maximum value in the column and min is used for getting the minimum value in column.    "
   ]
  },
  {
   "cell_type": "code",
   "execution_count": 25,
   "metadata": {},
   "outputs": [],
   "source": [
    "#function which will take any column as argument from and keep its track \n",
    "def data(column):\n",
    "    #will take a column, and separate the string by '|'\n",
    "    data = df[column].str.cat(sep = '|')\n",
    "    \n",
    "    #giving pandas series and storing the values separately\n",
    "    data = pd.Series(data.split('|'))\n",
    "    \n",
    "    #arranging in descending order\n",
    "    count = data.value_counts(ascending = False)\n",
    "    \n",
    "    return count"
   ]
  },
  {
   "cell_type": "code",
   "execution_count": 26,
   "metadata": {},
   "outputs": [],
   "source": [
    "def avg(column):\n",
    "    avg = df[column].mean()\n",
    "    print(avg)\n",
    "    \n",
    "# avg is used to get the average value in column    "
   ]
  },
  {
   "cell_type": "markdown",
   "metadata": {},
   "source": [
    "1.Which is the most and least popular movie?"
   ]
  },
  {
   "cell_type": "code",
   "execution_count": 27,
   "metadata": {},
   "outputs": [
    {
     "name": "stdout",
     "output_type": "stream",
     "text": [
      "0    Most popular movie is: Jurassic World\n",
      "Name: original_title, dtype: object\n",
      "9977    Least popular movie is:The Hospital\n",
      "Name: original_title, dtype: object\n"
     ]
    }
   ],
   "source": [
    "most_popular_movie = df[df['popularity'] == max('popularity')]\n",
    "print(\"Most popular movie is: \" + most_popular_movie.original_title)\n",
    "most_popular_movie = df[df['popularity'] == min('popularity')]\n",
    "print(\"Least popular movie is:\" + most_popular_movie.original_title)"
   ]
  },
  {
   "cell_type": "markdown",
   "metadata": {},
   "source": [
    "2.Which movie took the highest budget for its making?"
   ]
  },
  {
   "cell_type": "code",
   "execution_count": 28,
   "metadata": {},
   "outputs": [
    {
     "name": "stdout",
     "output_type": "stream",
     "text": [
      "2244    The Warrior's Way \n",
      "Name: original_title, dtype: object\n",
      "2244    425000000\n",
      "Name: budget, dtype: int64\n"
     ]
    }
   ],
   "source": [
    "most_budget_movie = df[df['budget'] == max('budget')]\n",
    "print(most_budget_movie.original_title + \" \")\n",
    "print(most_budget_movie.budget)"
   ]
  },
  {
   "cell_type": "markdown",
   "metadata": {},
   "source": [
    "3.What is the average revenue of the movies"
   ]
  },
  {
   "cell_type": "code",
   "execution_count": 29,
   "metadata": {},
   "outputs": [
    {
     "name": "stdout",
     "output_type": "stream",
     "text": [
      "40323555.14510717\n"
     ]
    }
   ],
   "source": [
    "avg('revenue')"
   ]
  },
  {
   "cell_type": "markdown",
   "metadata": {},
   "source": [
    "4.What is the average running time if the movies"
   ]
  },
  {
   "cell_type": "code",
   "execution_count": 30,
   "metadata": {},
   "outputs": [
    {
     "name": "stdout",
     "output_type": "stream",
     "text": [
      "102.46980428704566\n"
     ]
    }
   ],
   "source": [
    "avg('runtime')"
   ]
  },
  {
   "cell_type": "markdown",
   "metadata": {},
   "source": [
    "5.What is the average budget of the movies"
   ]
  },
  {
   "cell_type": "code",
   "execution_count": 31,
   "metadata": {},
   "outputs": [
    {
     "name": "stdout",
     "output_type": "stream",
     "text": [
      "14802229.894874185\n"
     ]
    }
   ],
   "source": [
    "avg('budget')"
   ]
  },
  {
   "cell_type": "markdown",
   "metadata": {},
   "source": [
    "6.Who is the most acted star"
   ]
  },
  {
   "cell_type": "code",
   "execution_count": 32,
   "metadata": {},
   "outputs": [
    {
     "data": {
      "text/plain": [
       "Robert De Niro       72\n",
       "Samuel L. Jackson    71\n",
       "Bruce Willis         62\n",
       "Nicolas Cage         61\n",
       "Michael Caine        53\n",
       "dtype: int64"
      ]
     },
     "execution_count": 32,
     "metadata": {},
     "output_type": "execute_result"
    }
   ],
   "source": [
    "data('cast').head(5)"
   ]
  },
  {
   "cell_type": "markdown",
   "metadata": {},
   "source": [
    "7.Which genre is mostly produced"
   ]
  },
  {
   "cell_type": "code",
   "execution_count": 33,
   "metadata": {},
   "outputs": [
    {
     "data": {
      "text/plain": [
       "Drama       4745\n",
       "Comedy      3775\n",
       "Thriller    2901\n",
       "Action      2375\n",
       "Romance     1708\n",
       "dtype: int64"
      ]
     },
     "execution_count": 33,
     "metadata": {},
     "output_type": "execute_result"
    }
   ],
   "source": [
    "data('genres').head(5)"
   ]
  },
  {
   "cell_type": "markdown",
   "metadata": {},
   "source": [
    "8.Which movie got the highest votes"
   ]
  },
  {
   "cell_type": "code",
   "execution_count": 34,
   "metadata": {},
   "outputs": [
    {
     "name": "stdout",
     "output_type": "stream",
     "text": [
      "1919    Most voted movie is: Inception\n",
      "Name: original_title, dtype: object\n"
     ]
    }
   ],
   "source": [
    "most_voted_movie = df[df['vote_count'] == max('vote_count')]\n",
    "print(\"Most voted movie is: \" + most_voted_movie.original_title)"
   ]
  },
  {
   "cell_type": "markdown",
   "metadata": {},
   "source": [
    "9.which director has done the most number of movies"
   ]
  },
  {
   "cell_type": "code",
   "execution_count": 35,
   "metadata": {},
   "outputs": [
    {
     "data": {
      "text/plain": [
       "Woody Allen          46\n",
       "Clint Eastwood       34\n",
       "Steven Spielberg     30\n",
       "Martin Scorsese      30\n",
       "Steven Soderbergh    23\n",
       "dtype: int64"
      ]
     },
     "execution_count": 35,
     "metadata": {},
     "output_type": "execute_result"
    }
   ],
   "source": [
    "data('director').head(5)"
   ]
  },
  {
   "cell_type": "markdown",
   "metadata": {},
   "source": [
    "10.How has popularity varied with respect to year"
   ]
  },
  {
   "cell_type": "code",
   "execution_count": 36,
   "metadata": {},
   "outputs": [
    {
     "data": {
      "text/plain": [
       "[<matplotlib.lines.Line2D at 0x7f3e8d02c8d0>]"
      ]
     },
     "execution_count": 36,
     "metadata": {},
     "output_type": "execute_result"
    },
    {
     "data": {
      "image/png": "[encoded data removed]",
      "text/plain": [
       "<Figure size 1560x780 with 1 Axes>"
      ]
     },
     "metadata": {
      "needs_background": "light"
     },
     "output_type": "display_data"
    }
   ],
   "source": [
    "popularity_year = df.groupby('release_year')['popularity'].sum()\n",
    "\n",
    "#figure size(width, height)\n",
    "plt.figure(figsize=(12,6), dpi = 130)\n",
    "\n",
    "#on x-axis\n",
    "plt.xlabel('Release Year of Movies in the data set', fontsize = 12)\n",
    "#on y-axis\n",
    "plt.ylabel('Popularity of Movies', fontsize = 12)\n",
    "#title of the line plot\n",
    "plt.title('Representing Total Popularity of all movies Vs Year of their release.')\n",
    "\n",
    "#plotting the graph\n",
    "plt.plot(popularity_year)\n",
    "\n",
    "#displaying "
   ]
  },
  {
   "cell_type": "markdown",
   "metadata": {},
   "source": [
    "11.which year was the highest number of movie released to that of lowest (with chart)"
   ]
  },
  {
   "cell_type": "code",
   "execution_count": 37,
   "metadata": {},
   "outputs": [
    {
     "data": {
      "image/png": "[encoded data removed]",
      "text/plain": [
       "<Figure size 720x360 with 1 Axes>"
      ]
     },
     "metadata": {
      "needs_background": "light"
     },
     "output_type": "display_data"
    }
   ],
   "source": [
    "city_count  = df['release_year'].value_counts()\n",
    "city_count = city_count[:10,]\n",
    "plt.figure(figsize=(10,5))\n",
    "sns.barplot(city_count.index, city_count.values, alpha=0.8)\n",
    "plt.title('Movie released per year')\n",
    "plt.ylabel('Number of Movies released', fontsize=12)\n",
    "plt.xlabel('Year of release', fontsize=12)\n",
    "plt.show()"
   ]
  },
  {
   "cell_type": "markdown",
   "metadata": {},
   "source": [
    "12. How is correlation between each of columns"
   ]
  },
  {
   "cell_type": "code",
   "execution_count": 39,
   "metadata": {},
   "outputs": [
    {
     "data": {
      "text/html": [
       "<div>\n",
       "<style scoped>\n",
       "    .dataframe tbody tr th:only-of-type {\n",
       "        vertical-align: middle;\n",
       "    }\n",
       "\n",
       "    .dataframe tbody tr th {\n",
       "        vertical-align: top;\n",
       "    }\n",
       "\n",
       "    .dataframe thead th {\n",
       "        text-align: right;\n",
       "    }\n",
       "</style>\n",
       "<table border=\"1\" class=\"dataframe\">\n",
       "  <thead>\n",
       "    <tr style=\"text-align: right;\">\n",
       "      <th></th>\n",
       "      <th>popularity</th>\n",
       "      <th>budget</th>\n",
       "      <th>revenue</th>\n",
       "      <th>runtime</th>\n",
       "      <th>vote_count</th>\n",
       "      <th>vote_average</th>\n",
       "      <th>release_year</th>\n",
       "      <th>budget_adj</th>\n",
       "      <th>revenue_adj</th>\n",
       "    </tr>\n",
       "  </thead>\n",
       "  <tbody>\n",
       "    <tr>\n",
       "      <th>popularity</th>\n",
       "      <td>1.00000</td>\n",
       "      <td>0.42621</td>\n",
       "      <td>0.47789</td>\n",
       "      <td>0.16427</td>\n",
       "      <td>0.59789</td>\n",
       "      <td>0.11835</td>\n",
       "      <td>0.02714</td>\n",
       "      <td>0.42001</td>\n",
       "      <td>0.46830</td>\n",
       "    </tr>\n",
       "    <tr>\n",
       "      <th>budget</th>\n",
       "      <td>0.42621</td>\n",
       "      <td>1.00000</td>\n",
       "      <td>0.60112</td>\n",
       "      <td>0.23209</td>\n",
       "      <td>0.46460</td>\n",
       "      <td>0.05522</td>\n",
       "      <td>-0.01673</td>\n",
       "      <td>0.95329</td>\n",
       "      <td>0.58483</td>\n",
       "    </tr>\n",
       "    <tr>\n",
       "      <th>revenue</th>\n",
       "      <td>0.47789</td>\n",
       "      <td>0.60112</td>\n",
       "      <td>1.00000</td>\n",
       "      <td>0.24602</td>\n",
       "      <td>0.53868</td>\n",
       "      <td>0.14814</td>\n",
       "      <td>-0.06041</td>\n",
       "      <td>0.60153</td>\n",
       "      <td>0.96433</td>\n",
       "    </tr>\n",
       "    <tr>\n",
       "      <th>runtime</th>\n",
       "      <td>0.16427</td>\n",
       "      <td>0.23209</td>\n",
       "      <td>0.24602</td>\n",
       "      <td>1.00000</td>\n",
       "      <td>0.16884</td>\n",
       "      <td>0.18890</td>\n",
       "      <td>-0.12302</td>\n",
       "      <td>0.24217</td>\n",
       "      <td>0.24979</td>\n",
       "    </tr>\n",
       "    <tr>\n",
       "      <th>vote_count</th>\n",
       "      <td>0.59789</td>\n",
       "      <td>0.46460</td>\n",
       "      <td>0.53868</td>\n",
       "      <td>0.16884</td>\n",
       "      <td>1.00000</td>\n",
       "      <td>0.19670</td>\n",
       "      <td>0.07011</td>\n",
       "      <td>0.45623</td>\n",
       "      <td>0.52454</td>\n",
       "    </tr>\n",
       "    <tr>\n",
       "      <th>vote_average</th>\n",
       "      <td>0.11835</td>\n",
       "      <td>0.05522</td>\n",
       "      <td>0.14814</td>\n",
       "      <td>0.18890</td>\n",
       "      <td>0.19670</td>\n",
       "      <td>1.00000</td>\n",
       "      <td>-0.07592</td>\n",
       "      <td>0.06478</td>\n",
       "      <td>0.15406</td>\n",
       "    </tr>\n",
       "    <tr>\n",
       "      <th>release_year</th>\n",
       "      <td>0.02714</td>\n",
       "      <td>-0.01673</td>\n",
       "      <td>-0.06041</td>\n",
       "      <td>-0.12302</td>\n",
       "      <td>0.07011</td>\n",
       "      <td>-0.07592</td>\n",
       "      <td>1.00000</td>\n",
       "      <td>-0.05909</td>\n",
       "      <td>-0.09075</td>\n",
       "    </tr>\n",
       "    <tr>\n",
       "      <th>budget_adj</th>\n",
       "      <td>0.42001</td>\n",
       "      <td>0.95329</td>\n",
       "      <td>0.60153</td>\n",
       "      <td>0.24217</td>\n",
       "      <td>0.45623</td>\n",
       "      <td>0.06478</td>\n",
       "      <td>-0.05909</td>\n",
       "      <td>1.00000</td>\n",
       "      <td>0.59534</td>\n",
       "    </tr>\n",
       "    <tr>\n",
       "      <th>revenue_adj</th>\n",
       "      <td>0.46830</td>\n",
       "      <td>0.58483</td>\n",
       "      <td>0.96433</td>\n",
       "      <td>0.24979</td>\n",
       "      <td>0.52454</td>\n",
       "      <td>0.15406</td>\n",
       "      <td>-0.09075</td>\n",
       "      <td>0.59534</td>\n",
       "      <td>1.00000</td>\n",
       "    </tr>\n",
       "  </tbody>\n",
       "</table>\n",
       "</div>"
      ],
      "text/plain": [
       "              popularity   budget  revenue  runtime  vote_count  vote_average  \\\n",
       "popularity       1.00000  0.42621  0.47789  0.16427     0.59789       0.11835   \n",
       "budget           0.42621  1.00000  0.60112  0.23209     0.46460       0.05522   \n",
       "revenue          0.47789  0.60112  1.00000  0.24602     0.53868       0.14814   \n",
       "runtime          0.16427  0.23209  0.24602  1.00000     0.16884       0.18890   \n",
       "vote_count       0.59789  0.46460  0.53868  0.16884     1.00000       0.19670   \n",
       "vote_average     0.11835  0.05522  0.14814  0.18890     0.19670       1.00000   \n",
       "release_year     0.02714 -0.01673 -0.06041 -0.12302     0.07011      -0.07592   \n",
       "budget_adj       0.42001  0.95329  0.60153  0.24217     0.45623       0.06478   \n",
       "revenue_adj      0.46830  0.58483  0.96433  0.24979     0.52454       0.15406   \n",
       "\n",
       "              release_year  budget_adj  revenue_adj  \n",
       "popularity         0.02714     0.42001      0.46830  \n",
       "budget            -0.01673     0.95329      0.58483  \n",
       "revenue           -0.06041     0.60153      0.96433  \n",
       "runtime           -0.12302     0.24217      0.24979  \n",
       "vote_count         0.07011     0.45623      0.52454  \n",
       "vote_average      -0.07592     0.06478      0.15406  \n",
       "release_year       1.00000    -0.05909     -0.09075  \n",
       "budget_adj        -0.05909     1.00000      0.59534  \n",
       "revenue_adj       -0.09075     0.59534      1.00000  "
      ]
     },
     "execution_count": 39,
     "metadata": {},
     "output_type": "execute_result"
    }
   ],
   "source": [
    "df.corr(method ='kendall') "
   ]
  },
  {
   "cell_type": "markdown",
   "metadata": {},
   "source": [
    "<a id='conclusions'></a>\n",
    "## Conclusions\n",
    "\n",
    "\n",
    "\n"
   ]
  },
  {
   "cell_type": "markdown",
   "metadata": {},
   "source": [
    "##### 1. 'Jurassic World' is the most popular movie and Least popular movie is 'The Hospital'\n",
    "\n",
    "##### 2. The Warrior's Way was the most expensive movie with a buget of 425 million dollars.\n",
    "\n",
    "##### 3. The average revenue is around 40 million dollars.\n",
    "\n",
    "##### 4. The average running time of movies is around 102 minutes.\n",
    "\n",
    "##### 5. The average expensive invested to produce a movie is around 148 million dollars.\n",
    "\n",
    "##### 6. Robert De Niro has acted most number of times.\n",
    "\n",
    "##### 7. The highest number of movies produced are Drama\n",
    "\n",
    "##### 8. Inception has got the most number of votes.\n",
    "\n",
    "##### 9. Woody Allen has directed the most number of movies\n",
    "\n",
    "##### 10. Every year there is a drastic increase in the popularity of movies.\n",
    "\n",
    "##### 11. 2014 had produced the highest number of movies."
   ]
  },
  {
   "cell_type": "markdown",
   "metadata": {},
   "source": [
    "### What we can get insight about the finding:\n",
    "\n",
    " -> There is a rise in need of movies and hence it is safe to invest on it\n",
    " \n",
    " -> More people prefer Drama and Comedy movies and hence invest wisely over it.\n",
    " \n",
    " -> More popular movie had more votes.\n",
    " \n",
    " -> Budget and revenue are correlated with each other so invest accordingly.\n",
    " \n",
    " -> Go for Woody Allen,Clint Eastwood.Steven Spielbeg,Martin Scorsese,Steven Soderbergh for choosing best direction.\n",
    " \n",
    " -> Choosing Robert De Niro,Samuel L. Jackson,Bruce Willis,Nicolas Cage,Michael Caine  is better for more success and popularity"
   ]
  },
  {
   "cell_type": "markdown",
   "metadata": {},
   "source": [
    "## Submitting your Project \n",
    "\n",
    "> Before you submit your project, you need to create a .html or .pdf version of this notebook in the workspace here. To do that, run the code cell below. If it worked correctly, you should get a return code of 0, and you should see the generated .html file in the workspace directory (click on the orange Jupyter icon in the upper left).\n",
    "\n",
    "> Alternatively, you can download this report as .html via the **File** > **Download as** submenu, and then manually upload it into the workspace directory by clicking on the orange Jupyter icon in the upper left, then using the Upload button.\n",
    "\n",
    "> Once you've done this, you can submit your project by clicking on the \"Submit Project\" button in the lower right here. This will create and submit a zip file with this .ipynb doc and the .html or .pdf version you created. Congratulations!"
   ]
  },
  {
   "cell_type": "code",
   "execution_count": null,
   "metadata": {},
   "outputs": [],
   "source": [
    "from subprocess import call\n",
    "call(['python', '-m', 'nbconvert', 'Investigate_a_Dataset.ipynb'])"
   ]
  },
  {
   "cell_type": "code",
   "execution_count": null,
   "metadata": {},
   "outputs": [],
   "source": []
  }
 ],
 "metadata": {
  "kernelspec": {
   "display_name": "Python 3",
   "language": "python",
   "name": "python3"
  },
  "language_info": {
   "codemirror_mode": {
    "name": "ipython",
    "version": 3
   },
   "file_extension": ".py",
   "mimetype": "text/x-python",
   "name": "python",
   "nbconvert_exporter": "python",
   "pygments_lexer": "ipython3",
   "version": "3.7.6"
  }
 },
 "nbformat": 4,
 "nbformat_minor": 2
}
