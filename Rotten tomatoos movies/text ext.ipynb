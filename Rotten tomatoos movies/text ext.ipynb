{
 "cells": [
  {
   "cell_type": "code",
   "execution_count": 9,
   "metadata": {},
   "outputs": [],
   "source": [
    "import glob\n",
    "import pandas as pd"
   ]
  },
  {
   "cell_type": "code",
   "execution_count": 11,
   "metadata": {},
   "outputs": [
    {
     "ename": "NameError",
     "evalue": "name 'review_text' is not defined",
     "output_type": "error",
     "traceback": [
      "\u001b[0;31m---------------------------------------------------------------------------\u001b[0m",
      "\u001b[0;31mNameError\u001b[0m                                 Traceback (most recent call last)",
      "\u001b[0;32m<ipython-input-11-20d295fd9402>\u001b[0m in \u001b[0;36m<module>\u001b[0;34m\u001b[0m\n\u001b[1;32m     11\u001b[0m         df_list.append({'title': title,\n\u001b[1;32m     12\u001b[0m                         \u001b[0;34m'review_url'\u001b[0m\u001b[0;34m:\u001b[0m \u001b[0mreview_url\u001b[0m\u001b[0;34m,\u001b[0m\u001b[0;34m\u001b[0m\u001b[0;34m\u001b[0m\u001b[0m\n\u001b[0;32m---> 13\u001b[0;31m                         'review_text': review_text})\n\u001b[0m\u001b[1;32m     14\u001b[0m \u001b[0mdf\u001b[0m \u001b[0;34m=\u001b[0m \u001b[0mpd\u001b[0m\u001b[0;34m.\u001b[0m\u001b[0mDataFrame\u001b[0m\u001b[0;34m(\u001b[0m\u001b[0mdf_list\u001b[0m\u001b[0;34m,\u001b[0m \u001b[0mcolumns\u001b[0m \u001b[0;34m=\u001b[0m \u001b[0;34m[\u001b[0m\u001b[0;34m'title'\u001b[0m\u001b[0;34m,\u001b[0m \u001b[0;34m'review_url'\u001b[0m\u001b[0;34m,\u001b[0m \u001b[0;34m'review_text'\u001b[0m\u001b[0;34m]\u001b[0m\u001b[0;34m)\u001b[0m\u001b[0;34m\u001b[0m\u001b[0;34m\u001b[0m\u001b[0m\n",
      "\u001b[0;31mNameError\u001b[0m: name 'review_text' is not defined"
     ]
    }
   ],
   "source": [
    "# List of dictionaries to build file by file and later convert to a DataFrame\n",
    "df_list = []\n",
    "for ebert_review in glob.glob('ebert-reviews/*.txt'):\n",
    "    with open(ebert_review, encoding='utf-8') as file:\n",
    "        title = file.readline()[:-1]\n",
    "        df_list.append(title)\n",
    "        review_url = file.readline()[:-1]\n",
    "        review_text\n",
    "        \n",
    "        \n",
    "        # Append to list of dictionaries\n",
    "        df_list.append({'title': title,\n",
    "                        'review_url': review_url,\n",
    "                        'review_text': review_text})\n",
    "df = pd.DataFrame(df_list, columns = ['title', 'review_url', 'review_text'])\n"
   ]
  },
  {
   "cell_type": "code",
   "execution_count": 8,
   "metadata": {},
   "outputs": [
    {
     "data": {
      "text/plain": [
       "['The Wizard of Oz (1939)',\n",
       " 'Metropolis (1927)',\n",
       " 'Battleship Potemkin (1925)',\n",
       " 'E.T. The Extra-Terrestrial (1982)',\n",
       " 'Modern Times (1936)',\n",
       " \"Singin' in the Rain (1952)\",\n",
       " 'Boyhood (2014)',\n",
       " 'Casablanca (1942)',\n",
       " 'Moonlight (2016)',\n",
       " 'Psycho (1960)',\n",
       " 'Laura (1944)',\n",
       " 'Citizen Kane (1941)',\n",
       " 'Nosferatu, a Symphony of Horror (Nosferatu, eine Symphonie des Grauens) (Nosferatu the Vampire) (1922)',\n",
       " 'Snow White and the Seven Dwarfs (1937)',\n",
       " \"A Hard Day's Night (1964)\",\n",
       " 'The Battle of Algiers (La Battaglia di Algeri) (1967)',\n",
       " 'Dunkirk (2017)',\n",
       " 'The Maltese Falcon (1941)',\n",
       " '12 Years a Slave (2013)',\n",
       " 'The Third Man (1949)',\n",
       " 'Gravity (2013)',\n",
       " 'Sunset Boulevard (1950)',\n",
       " 'King Kong (1933)',\n",
       " 'Spotlight (2015)',\n",
       " 'The Adventures of Robin Hood (1938)',\n",
       " 'Rashômon (1951)',\n",
       " 'Rear Window (1954)',\n",
       " 'Selma (2015)',\n",
       " 'Taxi Driver (1976)',\n",
       " 'Toy Story 3 (2010)',\n",
       " 'Argo (2012)',\n",
       " 'Toy Story 2 (1999)',\n",
       " 'The Big Sick (2017)',\n",
       " 'The Bride of Frankenstein (1935)',\n",
       " 'Zootopia (2016)',\n",
       " 'M (1931)',\n",
       " 'Wonder Woman (2017)',\n",
       " 'Alien (1979)',\n",
       " 'Bicycle Thieves (Ladri di biciclette) (1949)',\n",
       " 'Mad Max: Fury Road (2015)',\n",
       " 'Seven Samurai (Shichinin no Samurai) (1956)',\n",
       " 'The Treasure of the Sierra Madre (1948)',\n",
       " 'Up (2009)',\n",
       " '12 Angry Men (Twelve Angry Men) (1957)',\n",
       " 'The 400 Blows (Les Quatre cents coups) (1959)',\n",
       " \"Army of Shadows (L'Armée des ombres) (1969)\",\n",
       " 'Arrival (2016)',\n",
       " 'Baby Driver (2017)',\n",
       " 'The Cabinet of Dr. Caligari (Das Cabinet des Dr. Caligari) (1920)',\n",
       " 'A Streetcar Named Desire (1951)',\n",
       " 'The Night of the Hunter (1955)',\n",
       " 'Star Wars: Episode VII - The Force Awakens (2015)',\n",
       " 'Manchester by the Sea (2016)',\n",
       " 'Dr. Strangelove Or How I Learned to Stop Worrying and Love the Bomb (1964)',\n",
       " 'Vertigo (1958)',\n",
       " 'The Dark Knight (2008)',\n",
       " 'Touch of Evil (1958)',\n",
       " 'The Babadook (2014)',\n",
       " 'All About Eve (1950)',\n",
       " 'La Grande illusion (Grand Illusion) (1938)',\n",
       " 'Get Out (2017)',\n",
       " 'Logan (2017)',\n",
       " \"Rosemary's Baby (1968)\",\n",
       " 'Finding Nemo (2003)',\n",
       " 'Brooklyn (2015)',\n",
       " 'The Wrestler (2008)',\n",
       " 'L.A. Confidential (1997)',\n",
       " 'Gone With the Wind (1939)',\n",
       " 'The Good, the Bad and the Ugly (1966)',\n",
       " 'Inside Out (2015)',\n",
       " 'Skyfall (2012)',\n",
       " 'Tokyo Story (Tôkyô monogatari) (1953)',\n",
       " 'Hell or High Water (2016)',\n",
       " 'Pinocchio (1940)',\n",
       " 'The Jungle Book (2016)',\n",
       " 'La La Land (2016)',\n",
       " 'Star Trek (2009)',\n",
       " 'Apocalypse Now (1979)',\n",
       " 'The Godfather (1972)',\n",
       " 'On the Waterfront (1954)',\n",
       " 'The Wages of Fear (1953)',\n",
       " 'The Last Picture Show (1971)',\n",
       " 'Harry Potter and the Deathly Hallows - Part 2 (2011)',\n",
       " 'The Grapes of Wrath (1940)',\n",
       " 'Man on Wire (2008)',\n",
       " 'Jaws (1975)',\n",
       " 'Toy Story (1995)',\n",
       " 'The Godfather, Part II (1974)']"
      ]
     },
     "execution_count": 8,
     "metadata": {},
     "output_type": "execute_result"
    }
   ],
   "source": [
    "df"
   ]
  },
  {
   "cell_type": "code",
   "execution_count": null,
   "metadata": {},
   "outputs": [],
   "source": []
  },
  {
   "cell_type": "code",
   "execution_count": null,
   "metadata": {},
   "outputs": [],
   "source": []
  }
 ],
 "metadata": {
  "kernelspec": {
   "display_name": "Python 3",
   "language": "python",
   "name": "python3"
  },
  "language_info": {
   "codemirror_mode": {
    "name": "ipython",
    "version": 3
   },
   "file_extension": ".py",
   "mimetype": "text/x-python",
   "name": "python",
   "nbconvert_exporter": "python",
   "pygments_lexer": "ipython3",
   "version": "3.7.6"
  }
 },
 "nbformat": 4,
 "nbformat_minor": 4
}
